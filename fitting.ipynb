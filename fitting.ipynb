{
 "cells": [
  {
   "cell_type": "code",
   "execution_count": 1,
   "metadata": {},
   "outputs": [],
   "source": [
    "import mdtraj as md\n",
    "import numpy as np"
   ]
  },
  {
   "cell_type": "code",
   "execution_count": 2,
   "metadata": {},
   "outputs": [],
   "source": [
    "# inputdir, outputdir\n",
    "inputdir = \"input\"\n",
    "\n",
    "outputdir = \"output\""
   ]
  },
  {
   "cell_type": "code",
   "execution_count": 3,
   "metadata": {},
   "outputs": [
    {
     "name": "stdout",
     "output_type": "stream",
     "text": [
      "<mdtraj.Trajectory with 500 frames, 4792 atoms, 309 residues, and unitcells>\n"
     ]
    }
   ],
   "source": [
    "trj = md.load_trr(f\"{inputdir}/out.trr\", top=f\"{inputdir}/solv_ions_prot.gro\")\n",
    "print(trj)"
   ]
  },
  {
   "cell_type": "markdown",
   "metadata": {},
   "source": [
    "# make weight list"
   ]
  },
  {
   "cell_type": "code",
   "execution_count": 4,
   "metadata": {},
   "outputs": [],
   "source": [
    "from weightdict import atomicWeightsDecimal as wdict\n",
    "weight_key = 'standard'\n",
    "\n",
    "atoms_dict = trj.topology.to_dataframe()[0].element\n",
    "\n",
    "wlist = [float(wdict[atom][weight_key]) for atom in atoms_dict]"
   ]
  },
  {
   "cell_type": "code",
   "execution_count": 5,
   "metadata": {},
   "outputs": [
    {
     "name": "stdout",
     "output_type": "stream",
     "text": [
      "146084.19282618037\n",
      "146843.58345148605\n",
      "148134.37109819264\n",
      "147364.9272199925\n",
      "146850.12732746112\n",
      "146612.7168842983\n",
      "145752.69593981758\n",
      "144452.36391155253\n",
      "144152.75907437803\n",
      "145286.57522874922\n"
     ]
    }
   ],
   "source": [
    "for t in range(10):\n",
    "    tmpxyz = trj.xyz[t]\n",
    "\n",
    "    total_x = 0\n",
    "    for i in range(tmpxyz.shape[0]):\n",
    "        total_x = total_x + tmpxyz[i][0]*wlist[i]\n",
    "    \n",
    "    print(total_x)"
   ]
  },
  {
   "cell_type": "markdown",
   "metadata": {},
   "source": [
    "# centering"
   ]
  },
  {
   "cell_type": "code",
   "execution_count": 6,
   "metadata": {},
   "outputs": [
    {
     "data": {
      "text/plain": [
       "<mdtraj.Trajectory with 500 frames, 4792 atoms, 309 residues, and unitcells at 0x1100de080>"
      ]
     },
     "execution_count": 6,
     "metadata": {},
     "output_type": "execute_result"
    }
   ],
   "source": [
    "trj.center_coordinates(mass_weighted=True)"
   ]
  },
  {
   "cell_type": "code",
   "execution_count": 7,
   "metadata": {},
   "outputs": [
    {
     "name": "stdout",
     "output_type": "stream",
     "text": [
      "-0.3805274908356324\n",
      "-0.38100691824377364\n",
      "-0.3695024619539815\n",
      "-0.37476771859666513\n",
      "-0.38466225700586776\n",
      "-0.3857457324228655\n",
      "-0.38348396196329304\n",
      "-0.3878871178540919\n",
      "-0.3793476893772443\n",
      "-0.37027075142835386\n"
     ]
    }
   ],
   "source": [
    "for t in range(10):\n",
    "    tmpxyz = trj.xyz[t]\n",
    "\n",
    "    total_x = 0\n",
    "    for i in range(tmpxyz.shape[0]):\n",
    "        total_x = total_x + tmpxyz[i][0]*wlist[i]\n",
    "    \n",
    "    print(total_x)"
   ]
  },
  {
   "cell_type": "markdown",
   "metadata": {},
   "source": [
    "# choose 2 frames"
   ]
  },
  {
   "cell_type": "code",
   "execution_count": 8,
   "metadata": {},
   "outputs": [],
   "source": [
    "a = trj.xyz[0]\n",
    "b = trj.xyz[-1]"
   ]
  },
  {
   "cell_type": "markdown",
   "metadata": {},
   "source": [
    "# matrix U"
   ]
  },
  {
   "cell_type": "code",
   "execution_count": 9,
   "metadata": {},
   "outputs": [
    {
     "name": "stdout",
     "output_type": "stream",
     "text": [
      "[[ 62914.81288118  38547.79777827 -33233.75318807]\n",
      " [ -7875.27131628  37121.66933133  -5875.02421762]\n",
      " [ 13060.44571078   8975.06224838  14449.49038106]]\n"
     ]
    }
   ],
   "source": [
    "U = np.empty((3,3))\n",
    "\n",
    "for i in range(3):\n",
    "    for j in range(3):\n",
    "        U[i][j] = sum( [wlist[k]*a[k ,i]*b[k, j] for k in range(a.shape[0])] )\n",
    "\n",
    "print(U)"
   ]
  }
 ],
 "metadata": {
  "kernelspec": {
   "display_name": "Python 3",
   "language": "python",
   "name": "python3"
  },
  "language_info": {
   "codemirror_mode": {
    "name": "ipython",
    "version": 3
   },
   "file_extension": ".py",
   "mimetype": "text/x-python",
   "name": "python",
   "nbconvert_exporter": "python",
   "pygments_lexer": "ipython3",
   "version": "3.7.3"
  },
  "toc": {
   "base_numbering": 1,
   "nav_menu": {},
   "number_sections": true,
   "sideBar": true,
   "skip_h1_title": false,
   "title_cell": "Table of Contents",
   "title_sidebar": "Contents",
   "toc_cell": false,
   "toc_position": {},
   "toc_section_display": true,
   "toc_window_display": false
  },
  "varInspector": {
   "cols": {
    "lenName": 16,
    "lenType": 16,
    "lenVar": 40
   },
   "kernels_config": {
    "python": {
     "delete_cmd_postfix": "",
     "delete_cmd_prefix": "del ",
     "library": "var_list.py",
     "varRefreshCmd": "print(var_dic_list())"
    },
    "r": {
     "delete_cmd_postfix": ") ",
     "delete_cmd_prefix": "rm(",
     "library": "var_list.r",
     "varRefreshCmd": "cat(var_dic_list()) "
    }
   },
   "types_to_exclude": [
    "module",
    "function",
    "builtin_function_or_method",
    "instance",
    "_Feature"
   ],
   "window_display": false
  }
 },
 "nbformat": 4,
 "nbformat_minor": 2
}
