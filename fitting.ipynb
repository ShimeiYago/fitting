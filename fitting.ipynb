{
 "cells": [
  {
   "cell_type": "code",
   "execution_count": 9,
   "metadata": {},
   "outputs": [],
   "source": [
    "from mendeleev import element\n",
    "import mdtraj as md"
   ]
  },
  {
   "cell_type": "code",
   "execution_count": 11,
   "metadata": {},
   "outputs": [],
   "source": [
    "# inputdir\n",
    "inputdir = \"input\""
   ]
  },
  {
   "cell_type": "code",
   "execution_count": 7,
   "metadata": {},
   "outputs": [],
   "source": [
    "c = element('C')\n",
    "c.atomic_weight"
   ]
  },
  {
   "cell_type": "code",
   "execution_count": 12,
   "metadata": {},
   "outputs": [],
   "source": [
    "trj = md.load_trr(f\"{inputdir}/out.trr\", top=f\"{inputdir}/solv_ions_prot.gro\")"
   ]
  },
  {
   "cell_type": "code",
   "execution_count": 13,
   "metadata": {},
   "outputs": [
    {
     "name": "stdout",
     "output_type": "stream",
     "text": [
      "<mdtraj.Trajectory with 500 frames, 4792 atoms, 309 residues, and unitcells>\n"
     ]
    }
   ],
   "source": [
    "print(trj)"
   ]
  },
  {
   "cell_type": "code",
   "execution_count": 21,
   "metadata": {},
   "outputs": [
    {
     "data": {
      "text/plain": [
       "(      serial name element  resSeq resName  chainID segmentID\n",
       " 0          1    N       N       1     ASP        0          \n",
       " 1          2    H       H       1     ASP        0          \n",
       " 2          3   H2       H       1     ASP        0          \n",
       " 3          4   H3       H       1     ASP        0          \n",
       " 4          5   CA       C       1     ASP        0          \n",
       " ...      ...  ...     ...     ...     ...      ...       ...\n",
       " 4787    4788  HZ2       H     309     LYS        0          \n",
       " 4788    4789  HZ3       H     309     LYS        0          \n",
       " 4789    4790    C       C     309     LYS        0          \n",
       " 4790    4791    O       O     309     LYS        0          \n",
       " 4791    4792  OXT       O     309     LYS        0          \n",
       " \n",
       " [4792 rows x 7 columns], array([], shape=(0, 4), dtype=float64))"
      ]
     },
     "metadata": {},
     "output_type": "display_data"
    }
   ],
   "source": [
    "display(trj.topology.to_dataframe())"
   ]
  },
  {
   "cell_type": "code",
   "execution_count": 30,
   "metadata": {},
   "outputs": [
    {
     "name": "stdout",
     "output_type": "stream",
     "text": [
      "(500, 4792, 3)\n"
     ]
    }
   ],
   "source": [
    "print(trj.xyz.shape)"
   ]
  },
  {
   "cell_type": "code",
   "execution_count": 27,
   "metadata": {},
   "outputs": [],
   "source": [
    "trj_center = trj.center_coordinates(mass_weighted=True)"
   ]
  },
  {
   "cell_type": "code",
   "execution_count": 28,
   "metadata": {},
   "outputs": [
    {
     "name": "stdout",
     "output_type": "stream",
     "text": [
      "<mdtraj.Trajectory with 500 frames, 4792 atoms, 309 residues, and unitcells>\n"
     ]
    }
   ],
   "source": [
    "print(trj_center)"
   ]
  },
  {
   "cell_type": "code",
   "execution_count": 43,
   "metadata": {},
   "outputs": [
    {
     "ename": "SyntaxError",
     "evalue": "invalid syntax (<ipython-input-43-be4715cb4802>, line 1)",
     "output_type": "error",
     "traceback": [
      "\u001b[0;36m  File \u001b[0;32m\"<ipython-input-43-be4715cb4802>\"\u001b[0;36m, line \u001b[0;32m1\u001b[0m\n\u001b[0;31m    print(trj.topology.to_dataframe()[0].0)\u001b[0m\n\u001b[0m                                         ^\u001b[0m\n\u001b[0;31mSyntaxError\u001b[0m\u001b[0;31m:\u001b[0m invalid syntax\n"
     ]
    }
   ],
   "source": [
    "print(trj.topology.to_dataframe()[0].)"
   ]
  },
  {
   "cell_type": "code",
   "execution_count": null,
   "metadata": {},
   "outputs": [],
   "source": []
  }
 ],
 "metadata": {
  "kernelspec": {
   "display_name": "Python 3",
   "language": "python",
   "name": "python3"
  },
  "language_info": {
   "codemirror_mode": {
    "name": "ipython",
    "version": 3
   },
   "file_extension": ".py",
   "mimetype": "text/x-python",
   "name": "python",
   "nbconvert_exporter": "python",
   "pygments_lexer": "ipython3",
   "version": "3.7.3"
  }
 },
 "nbformat": 4,
 "nbformat_minor": 2
}
