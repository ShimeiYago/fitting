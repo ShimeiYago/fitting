{
 "cells": [
  {
   "cell_type": "code",
   "execution_count": 1,
   "metadata": {},
   "outputs": [],
   "source": [
    "import mdtraj as md\n",
    "import numpy as np\n",
    "import os"
   ]
  },
  {
   "cell_type": "code",
   "execution_count": 2,
   "metadata": {},
   "outputs": [],
   "source": [
    "# inputdir, outputdir\n",
    "inputdir = \"input\"\n",
    "\n",
    "outputdir = \"output\"\n",
    "os.makedirs(outputdir, exist_ok=True)"
   ]
  },
  {
   "cell_type": "code",
   "execution_count": 3,
   "metadata": {},
   "outputs": [
    {
     "name": "stdout",
     "output_type": "stream",
     "text": [
      "<mdtraj.Trajectory with 500 frames, 4792 atoms, 309 residues, and unitcells>\n"
     ]
    }
   ],
   "source": [
    "trj = md.load_trr(f\"{inputdir}/out.trr\", top=f\"{inputdir}/solv_ions_prot.gro\")\n",
    "print(trj)"
   ]
  },
  {
   "cell_type": "code",
   "execution_count": 4,
   "metadata": {},
   "outputs": [
    {
     "data": {
      "text/plain": [
       "(500, 4792, 3)"
      ]
     },
     "execution_count": 4,
     "metadata": {},
     "output_type": "execute_result"
    }
   ],
   "source": [
    "trj.xyz.shape"
   ]
  },
  {
   "cell_type": "markdown",
   "metadata": {},
   "source": [
    "# make weight list"
   ]
  },
  {
   "cell_type": "code",
   "execution_count": 5,
   "metadata": {},
   "outputs": [],
   "source": [
    "from weightdict import atomicWeightsDecimal as wdict\n",
    "weight_key = 'standard'\n",
    "\n",
    "atoms_dict = trj.topology.to_dataframe()[0].element\n",
    "\n",
    "wlist = [float(wdict[atom][weight_key]) for atom in atoms_dict]"
   ]
  },
  {
   "cell_type": "markdown",
   "metadata": {},
   "source": [
    "# centering"
   ]
  },
  {
   "cell_type": "code",
   "execution_count": 6,
   "metadata": {},
   "outputs": [
    {
     "name": "stdout",
     "output_type": "stream",
     "text": [
      "146172.1851362678\n",
      "146932.03135434075\n",
      "148223.58173471055\n",
      "147453.68239108718\n",
      "146938.58363073212\n",
      "146701.03182547682\n",
      "145840.4915579726\n",
      "144539.3844968831\n",
      "144239.59204599247\n",
      "145374.07823754655\n"
     ]
    }
   ],
   "source": [
    "# before centering\n",
    "for t in range(10):\n",
    "    tmpxyz = trj.xyz[t]\n",
    "\n",
    "    total_x = 0\n",
    "    for i in range(tmpxyz.shape[0]):\n",
    "        total_x = total_x + tmpxyz[i][0]*wlist[i]\n",
    "    \n",
    "    print(total_x)"
   ]
  },
  {
   "cell_type": "code",
   "execution_count": 7,
   "metadata": {},
   "outputs": [
    {
     "data": {
      "text/plain": [
       "<mdtraj.Trajectory with 500 frames, 4792 atoms, 309 residues, and unitcells at 0x1c335814828>"
      ]
     },
     "execution_count": 7,
     "metadata": {},
     "output_type": "execute_result"
    }
   ],
   "source": [
    "# centering\n",
    "trj.center_coordinates(mass_weighted=True)"
   ]
  },
  {
   "cell_type": "code",
   "execution_count": 8,
   "metadata": {},
   "outputs": [
    {
     "name": "stdout",
     "output_type": "stream",
     "text": [
      "-0.0020182300616653492\n",
      "-0.0023475031443247474\n",
      "-0.0022486422465028966\n",
      "-0.0015107285236837242\n",
      "-0.0015292740585834963\n",
      "-0.0015892604226621643\n",
      "-0.0028540748965362184\n",
      "-0.002422328964321707\n",
      "-0.0018043812778678614\n",
      "-0.0026877619365563987\n"
     ]
    }
   ],
   "source": [
    "# after centering\n",
    "for t in range(10):\n",
    "    tmpxyz = trj.xyz[t]\n",
    "\n",
    "    total_x = 0\n",
    "    for i in range(tmpxyz.shape[0]):\n",
    "        total_x = total_x + tmpxyz[i][0]*wlist[i]\n",
    "    \n",
    "    print(total_x)"
   ]
  },
  {
   "cell_type": "markdown",
   "metadata": {},
   "source": [
    "# choose 2 frames"
   ]
  },
  {
   "cell_type": "code",
   "execution_count": 9,
   "metadata": {},
   "outputs": [],
   "source": [
    "a = trj.xyz[0]\n",
    "b = trj.xyz[-1]"
   ]
  },
  {
   "cell_type": "markdown",
   "metadata": {},
   "source": [
    "# matrix U"
   ]
  },
  {
   "cell_type": "code",
   "execution_count": 10,
   "metadata": {},
   "outputs": [
    {
     "name": "stdout",
     "output_type": "stream",
     "text": [
      "[[ 62952.17991029  38570.72318614 -33253.59856558]\n",
      " [ -7879.77936183  37143.47651281  -5878.48978125]\n",
      " [ 13068.04244232   8980.31518004  14457.95218838]]\n"
     ]
    }
   ],
   "source": [
    "U = np.empty((3,3))\n",
    "\n",
    "for i in range(3):\n",
    "    for j in range(3):\n",
    "        U[i][j] = sum( [wlist[n]*a[n,i]*b[n,j] for n in range(a.shape[0])] )\n",
    "\n",
    "print(U)"
   ]
  },
  {
   "cell_type": "markdown",
   "metadata": {},
   "source": [
    "# 固有値問題"
   ]
  },
  {
   "cell_type": "code",
   "execution_count": 11,
   "metadata": {},
   "outputs": [
    {
     "name": "stdout",
     "output_type": "stream",
     "text": [
      "[[     0.              0.              0.          62952.17991029\n",
      "   -7879.77936183  13068.04244232]\n",
      " [     0.              0.              0.          38570.72318614\n",
      "   37143.47651281   8980.31518004]\n",
      " [     0.              0.              0.         -33253.59856558\n",
      "   -5878.48978125  14457.95218838]\n",
      " [ 62952.17991029  38570.72318614 -33253.59856558      0.\n",
      "       0.              0.        ]\n",
      " [ -7879.77936183  37143.47651281  -5878.48978125      0.\n",
      "       0.              0.        ]\n",
      " [ 13068.04244232   8980.31518004  14457.95218838      0.\n",
      "       0.              0.        ]]\n"
     ]
    }
   ],
   "source": [
    "# 6*6のomega定義\n",
    "OMEGA = np.empty((6,6))\n",
    "\n",
    "for i in range(3):\n",
    "    for j in range(3):\n",
    "        OMEGA[i][j] = 0\n",
    "        OMEGA[i+3][j+3] = 0\n",
    "        OMEGA[i+3][j] = U[i][j]\n",
    "        OMEGA[i][j+3] = U.T[i][j]\n",
    "\n",
    "print(OMEGA)"
   ]
  },
  {
   "cell_type": "code",
   "execution_count": 12,
   "metadata": {},
   "outputs": [
    {
     "name": "stdout",
     "output_type": "stream",
     "text": [
      "pairs of eig\n",
      "----------\n",
      "82912.57364980305\n",
      "[ 0.52024659  0.39369797 -0.27266352  0.68750629  0.14625927  0.07709301]\n",
      "----------\n",
      "-82912.573649803\n",
      "[ 0.52024659  0.39369797 -0.27266352 -0.68750629 -0.14625927 -0.07709301]\n",
      "----------\n",
      "35148.677261257166\n",
      "[ 4.18700695e-01 -5.69343625e-01 -2.31854403e-02  1.47064578e-01\n",
      " -6.91644101e-01  6.68567349e-04]\n",
      "----------\n",
      "19577.8616175314\n",
      "[ 0.23245047  0.1443944   0.65201    -0.07554547 -0.01538383  0.70289133]\n",
      "----------\n",
      "-35148.67726125715\n",
      "[-4.18700695e-01  5.69343625e-01  2.31854403e-02  1.47064578e-01\n",
      " -6.91644101e-01  6.68567349e-04]\n",
      "----------\n",
      "-19577.86161753139\n",
      "[-0.23245047 -0.1443944  -0.65201    -0.07554547 -0.01538383  0.70289133]\n"
     ]
    }
   ],
   "source": [
    "# 固有値問題\n",
    "eig_val, eig_vec =np.linalg.eig(OMEGA)\n",
    "\n",
    "omegas = eig_vec.T\n",
    "\n",
    "print(\"pairs of eig\")\n",
    "for i in range(len(eig_val)):\n",
    "    print('----------')\n",
    "    print(eig_val[i])\n",
    "    print(omegas[i])"
   ]
  },
  {
   "cell_type": "code",
   "execution_count": 13,
   "metadata": {},
   "outputs": [],
   "source": [
    "hks = np.array([omegas[i] for i in range(6) if eig_val[i] > 0])\n",
    "hks = hks * np.sqrt(2) # root2を出す"
   ]
  },
  {
   "cell_type": "code",
   "execution_count": 14,
   "metadata": {},
   "outputs": [],
   "source": [
    "k = np.empty((3,3))\n",
    "h = np.empty((3,3))\n",
    "for i in range(3):\n",
    "    for j in range(3):\n",
    "        k[i][j] = hks[j][i]\n",
    "        h[i][j] = hks[j][i+3]"
   ]
  },
  {
   "cell_type": "markdown",
   "metadata": {},
   "source": [
    "# 回転行列R"
   ]
  },
  {
   "cell_type": "code",
   "execution_count": 15,
   "metadata": {},
   "outputs": [
    {
     "name": "stdout",
     "output_type": "stream",
     "text": [
      "[[ 0.80337652 -0.43415391  0.40754945]\n",
      " [ 0.35206241  0.8982876   0.26292858]\n",
      " [-0.48024809 -0.06774781  0.87451244]]\n"
     ]
    }
   ],
   "source": [
    "R = np.empty((3,3))\n",
    "\n",
    "for i in range(3):\n",
    "    for j in range(3):\n",
    "        R[i][j] = sum( [k[i][a]*h[j][a] for a in range(len(h))] )\n",
    "print(R)"
   ]
  },
  {
   "cell_type": "code",
   "execution_count": 16,
   "metadata": {},
   "outputs": [
    {
     "name": "stdout",
     "output_type": "stream",
     "text": [
      "[[ 1.00000000e+00  4.82446326e-16 -8.04668102e-16]\n",
      " [ 4.82446326e-16  1.00000000e+00  8.01157461e-16]\n",
      " [-8.04668102e-16  8.01157461e-16  1.00000000e+00]]\n"
     ]
    }
   ],
   "source": [
    "# 正規直交確認\n",
    "print(R@R.T)"
   ]
  },
  {
   "cell_type": "markdown",
   "metadata": {},
   "source": [
    "# bをrへ変換"
   ]
  },
  {
   "cell_type": "code",
   "execution_count": 17,
   "metadata": {},
   "outputs": [],
   "source": [
    "r = np.empty_like(b)\n",
    "\n",
    "for i in range(3):\n",
    "    for n in range(r.shape[0]):\n",
    "        r[n,i] = sum( [R[i,j]*b[n,j] for j in range(3)] )"
   ]
  },
  {
   "cell_type": "markdown",
   "metadata": {},
   "source": [
    "# save"
   ]
  },
  {
   "cell_type": "code",
   "execution_count": 18,
   "metadata": {},
   "outputs": [
    {
     "data": {
      "text/plain": [
       "(2, 4792, 3)"
      ]
     },
     "execution_count": 18,
     "metadata": {},
     "output_type": "execute_result"
    }
   ],
   "source": [
    "fitted_xyz = np.array([a,r])\n",
    "\n",
    "fitted_xyz.shape"
   ]
  },
  {
   "cell_type": "code",
   "execution_count": 19,
   "metadata": {},
   "outputs": [],
   "source": [
    "fitted_trj = md.Trajectory(fitted_xyz, trj.topology)"
   ]
  },
  {
   "cell_type": "code",
   "execution_count": 20,
   "metadata": {},
   "outputs": [],
   "source": [
    "fitted_trj.save_trr(f\"{outputdir}/test.trr\")"
   ]
  },
  {
   "cell_type": "code",
   "execution_count": 21,
   "metadata": {},
   "outputs": [
    {
     "data": {
      "text/plain": [
       "numpy.ndarray"
      ]
     },
     "execution_count": 21,
     "metadata": {},
     "output_type": "execute_result"
    }
   ],
   "source": [
    "type(a)"
   ]
  },
  {
   "cell_type": "code",
   "execution_count": null,
   "metadata": {},
   "outputs": [],
   "source": []
  }
 ],
 "metadata": {
  "kernelspec": {
   "display_name": "Python 3",
   "language": "python",
   "name": "python3"
  },
  "language_info": {
   "codemirror_mode": {
    "name": "ipython",
    "version": 3
   },
   "file_extension": ".py",
   "mimetype": "text/x-python",
   "name": "python",
   "nbconvert_exporter": "python",
   "pygments_lexer": "ipython3",
   "version": "3.6.9"
  },
  "toc": {
   "base_numbering": 1,
   "nav_menu": {},
   "number_sections": true,
   "sideBar": true,
   "skip_h1_title": false,
   "title_cell": "Table of Contents",
   "title_sidebar": "Contents",
   "toc_cell": false,
   "toc_position": {},
   "toc_section_display": true,
   "toc_window_display": true
  },
  "varInspector": {
   "cols": {
    "lenName": 16,
    "lenType": 16,
    "lenVar": 40
   },
   "kernels_config": {
    "python": {
     "delete_cmd_postfix": "",
     "delete_cmd_prefix": "del ",
     "library": "var_list.py",
     "varRefreshCmd": "print(var_dic_list())"
    },
    "r": {
     "delete_cmd_postfix": ") ",
     "delete_cmd_prefix": "rm(",
     "library": "var_list.r",
     "varRefreshCmd": "cat(var_dic_list()) "
    }
   },
   "types_to_exclude": [
    "module",
    "function",
    "builtin_function_or_method",
    "instance",
    "_Feature"
   ],
   "window_display": false
  }
 },
 "nbformat": 4,
 "nbformat_minor": 2
}
