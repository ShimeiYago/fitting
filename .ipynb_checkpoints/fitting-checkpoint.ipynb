{
 "cells": [
  {
   "cell_type": "code",
   "execution_count": 1,
   "metadata": {},
   "outputs": [],
   "source": [
    "import mdtraj as md"
   ]
  },
  {
   "cell_type": "code",
   "execution_count": 2,
   "metadata": {},
   "outputs": [],
   "source": [
    "# inputdir\n",
    "inputdir = \"input\"\n",
    "\n",
    "outputdir = \"output\""
   ]
  },
  {
   "cell_type": "code",
   "execution_count": 3,
   "metadata": {},
   "outputs": [],
   "source": [
    "# from mendeleev import element\n",
    "# c = element('C')\n",
    "# c.atomic_weight"
   ]
  },
  {
   "cell_type": "code",
   "execution_count": 4,
   "metadata": {},
   "outputs": [],
   "source": [
    "trj = md.load_trr(f\"{inputdir}/out.trr\", top=f\"{inputdir}/solv_ions_prot.gro\")"
   ]
  },
  {
   "cell_type": "code",
   "execution_count": 5,
   "metadata": {},
   "outputs": [
    {
     "name": "stdout",
     "output_type": "stream",
     "text": [
      "<mdtraj.Trajectory with 500 frames, 4792 atoms, 309 residues, and unitcells>\n"
     ]
    }
   ],
   "source": [
    "print(trj)"
   ]
  },
  {
   "cell_type": "code",
   "execution_count": 6,
   "metadata": {},
   "outputs": [
    {
     "data": {
      "text/plain": [
       "(      serial  name element  resSeq resName  chainID segmentID\n",
       " 0          1     N       N       1     ASP        0          \n",
       " 1          2     H       H       1     ASP        0          \n",
       " 2          3    H2       H       1     ASP        0          \n",
       " 3          4    H3       H       1     ASP        0          \n",
       " 4          5    CA       C       1     ASP        0          \n",
       " 5          6    HA       H       1     ASP        0          \n",
       " 6          7    CB       C       1     ASP        0          \n",
       " 7          8   HB3       H       1     ASP        0          \n",
       " 8          9   HB2       H       1     ASP        0          \n",
       " 9         10    CG       C       1     ASP        0          \n",
       " 10        11   OD1       O       1     ASP        0          \n",
       " 11        12   OD2       O       1     ASP        0          \n",
       " 12        13     C       C       1     ASP        0          \n",
       " 13        14     O       O       1     ASP        0          \n",
       " 14        15     N       N       2     ILE        0          \n",
       " 15        16     H       H       2     ILE        0          \n",
       " 16        17    CA       C       2     ILE        0          \n",
       " 17        18    HA       H       2     ILE        0          \n",
       " 18        19    CB       C       2     ILE        0          \n",
       " 19        20    HB       H       2     ILE        0          \n",
       " 20        21   CG2       C       2     ILE        0          \n",
       " 21        22  HG21       H       2     ILE        0          \n",
       " 22        23  HG22       H       2     ILE        0          \n",
       " 23        24  HG23       H       2     ILE        0          \n",
       " 24        25   CG1       C       2     ILE        0          \n",
       " 25        26  HG13       H       2     ILE        0          \n",
       " 26        27  HG12       H       2     ILE        0          \n",
       " 27        28   CD1       C       2     ILE        0          \n",
       " 28        29  HD11       H       2     ILE        0          \n",
       " 29        30  HD12       H       2     ILE        0          \n",
       " ...      ...   ...     ...     ...     ...      ...       ...\n",
       " 4762    4763  HD13       H     308     LEU        0          \n",
       " 4763    4764   CD2       C     308     LEU        0          \n",
       " 4764    4765  HD21       H     308     LEU        0          \n",
       " 4765    4766  HD22       H     308     LEU        0          \n",
       " 4766    4767  HD23       H     308     LEU        0          \n",
       " 4767    4768     C       C     308     LEU        0          \n",
       " 4768    4769     O       O     308     LEU        0          \n",
       " 4769    4770     N       N     309     LYS        0          \n",
       " 4770    4771     H       H     309     LYS        0          \n",
       " 4771    4772    CA       C     309     LYS        0          \n",
       " 4772    4773    HA       H     309     LYS        0          \n",
       " 4773    4774    CB       C     309     LYS        0          \n",
       " 4774    4775   HB3       H     309     LYS        0          \n",
       " 4775    4776   HB2       H     309     LYS        0          \n",
       " 4776    4777    CG       C     309     LYS        0          \n",
       " 4777    4778   HG3       H     309     LYS        0          \n",
       " 4778    4779   HG2       H     309     LYS        0          \n",
       " 4779    4780    CD       C     309     LYS        0          \n",
       " 4780    4781   HD3       H     309     LYS        0          \n",
       " 4781    4782   HD2       H     309     LYS        0          \n",
       " 4782    4783    CE       C     309     LYS        0          \n",
       " 4783    4784   HE3       H     309     LYS        0          \n",
       " 4784    4785   HE2       H     309     LYS        0          \n",
       " 4785    4786    NZ       N     309     LYS        0          \n",
       " 4786    4787   HZ1       H     309     LYS        0          \n",
       " 4787    4788   HZ2       H     309     LYS        0          \n",
       " 4788    4789   HZ3       H     309     LYS        0          \n",
       " 4789    4790     C       C     309     LYS        0          \n",
       " 4790    4791     O       O     309     LYS        0          \n",
       " 4791    4792   OXT       O     309     LYS        0          \n",
       " \n",
       " [4792 rows x 7 columns], array([], shape=(0, 4), dtype=float64))"
      ]
     },
     "metadata": {},
     "output_type": "display_data"
    }
   ],
   "source": [
    "display(trj.topology.to_dataframe())"
   ]
  },
  {
   "cell_type": "code",
   "execution_count": 7,
   "metadata": {},
   "outputs": [
    {
     "name": "stdout",
     "output_type": "stream",
     "text": [
      "(500, 4792, 3)\n"
     ]
    }
   ],
   "source": [
    "print(trj.xyz.shape)"
   ]
  },
  {
   "cell_type": "code",
   "execution_count": 8,
   "metadata": {},
   "outputs": [],
   "source": [
    "trj_center = trj.center_coordinates(mass_weighted=True)"
   ]
  },
  {
   "cell_type": "code",
   "execution_count": 9,
   "metadata": {},
   "outputs": [
    {
     "name": "stdout",
     "output_type": "stream",
     "text": [
      "<mdtraj.Trajectory with 500 frames, 4792 atoms, 309 residues, and unitcells>\n"
     ]
    }
   ],
   "source": [
    "print(trj_center)"
   ]
  },
  {
   "cell_type": "code",
   "execution_count": 10,
   "metadata": {},
   "outputs": [
    {
     "ename": "SyntaxError",
     "evalue": "invalid syntax (<ipython-input-10-8436f5291a7e>, line 1)",
     "output_type": "error",
     "traceback": [
      "\u001b[0;36m  File \u001b[0;32m\"<ipython-input-10-8436f5291a7e>\"\u001b[0;36m, line \u001b[0;32m1\u001b[0m\n\u001b[0;31m    print(trj.topology.to_dataframe()[0].)\u001b[0m\n\u001b[0m                                         ^\u001b[0m\n\u001b[0;31mSyntaxError\u001b[0m\u001b[0;31m:\u001b[0m invalid syntax\n"
     ]
    }
   ],
   "source": [
    "print(trj.topology.to_dataframe()[0].)"
   ]
  },
  {
   "cell_type": "code",
   "execution_count": null,
   "metadata": {},
   "outputs": [],
   "source": []
  }
 ],
 "metadata": {
  "kernelspec": {
   "display_name": "Python 3",
   "language": "python",
   "name": "python3"
  },
  "language_info": {
   "codemirror_mode": {
    "name": "ipython",
    "version": 3
   },
   "file_extension": ".py",
   "mimetype": "text/x-python",
   "name": "python",
   "nbconvert_exporter": "python",
   "pygments_lexer": "ipython3",
   "version": "3.7.3"
  },
  "toc": {
   "base_numbering": 1,
   "nav_menu": {},
   "number_sections": true,
   "sideBar": true,
   "skip_h1_title": false,
   "title_cell": "Table of Contents",
   "title_sidebar": "Contents",
   "toc_cell": false,
   "toc_position": {},
   "toc_section_display": true,
   "toc_window_display": false
  },
  "varInspector": {
   "cols": {
    "lenName": 16,
    "lenType": 16,
    "lenVar": 40
   },
   "kernels_config": {
    "python": {
     "delete_cmd_postfix": "",
     "delete_cmd_prefix": "del ",
     "library": "var_list.py",
     "varRefreshCmd": "print(var_dic_list())"
    },
    "r": {
     "delete_cmd_postfix": ") ",
     "delete_cmd_prefix": "rm(",
     "library": "var_list.r",
     "varRefreshCmd": "cat(var_dic_list()) "
    }
   },
   "types_to_exclude": [
    "module",
    "function",
    "builtin_function_or_method",
    "instance",
    "_Feature"
   ],
   "window_display": false
  }
 },
 "nbformat": 4,
 "nbformat_minor": 2
}
