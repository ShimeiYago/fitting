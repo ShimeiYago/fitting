{
 "cells": [
  {
   "cell_type": "code",
   "execution_count": null,
   "metadata": {},
   "outputs": [],
   "source": [
    "import numpy as np\n",
    "import os"
   ]
  },
  {
   "cell_type": "code",
   "execution_count": null,
   "metadata": {},
   "outputs": [],
   "source": []
  },
  {
   "cell_type": "code",
   "execution_count": null,
   "metadata": {},
   "outputs": [],
   "source": [
    "def super_impose(target_structure:np.ndarray, reference_structure:np.ndarray, wlist):\n",
    "    ### matrix U ###\n",
    "    U = np.empty((3,3))\n",
    "    for i in range(3):\n",
    "        for j in range(3):\n",
    "            U[i][j] = sum( [wlist[n]*target_structure[n,i]*reference_structure[n,j] for n in range(target_structure.shape[0])] )\n",
    "\n",
    "    ### matrix OMEGA ###\n",
    "    OMEGA = np.empty((6,6))\n",
    "    for i in range(3):\n",
    "        for j in range(3):\n",
    "            OMEGA[i][j] = 0\n",
    "            OMEGA[i+3][j+3] = 0\n",
    "            OMEGA[i+3][j] = U[i][j]\n",
    "            OMEGA[i][j+3] = U.T[i][j]\n",
    "\n",
    "\n",
    "    ### resolve Eigenvalue problem ###\n",
    "    eig_val, eig_vec =np.linalg.eig(OMEGA)\n",
    "\n",
    "    omegas = eig_vec.T\n",
    "\n",
    "    ### split eig_vec to h and k ###\n",
    "    hks = np.array([omegas[i] for i in range(6) if eig_val[i] > 0])\n",
    "    hks = hks * np.sqrt(2) # root2\n",
    "\n",
    "    k = np.empty((3,3))\n",
    "    h = np.empty((3,3))\n",
    "    for i in range(3):\n",
    "        for j in range(3):\n",
    "            k[i][j] = hks[j][i]\n",
    "            h[i][j] = hks[j][i+3]\n",
    "    \n",
    "\n",
    "    ### rotation matrix R ###\n",
    "    R = np.empty((3,3))\n",
    "    for i in range(3):\n",
    "        for j in range(3):\n",
    "            R[i][j] = sum( [k[i][a]*h[j][a] for a in range(len(h))] )\n",
    "\n",
    "    \n",
    "    ### target_trj to fitted_trj ###\n",
    "    fitted_structure = np.empty_like(target_structure)\n",
    "    for i in range(3):\n",
    "        for n in range(fitted_structure.shape[0]):\n",
    "            fitted_structure[n,i] = sum( [R[i,j]*target_structure[n,j] for j in range(3)] )\n",
    "    \n",
    "    \n",
    "    return fitted_structure\n"
   ]
  }
 ],
 "metadata": {
  "kernelspec": {
   "display_name": "Python 3",
   "language": "python",
   "name": "python3"
  },
  "language_info": {
   "codemirror_mode": {
    "name": "ipython",
    "version": 3
   },
   "file_extension": ".py",
   "mimetype": "text/x-python",
   "name": "python",
   "nbconvert_exporter": "python",
   "pygments_lexer": "ipython3",
   "version": "3.7.3"
  },
  "toc": {
   "base_numbering": 1,
   "nav_menu": {},
   "number_sections": true,
   "sideBar": true,
   "skip_h1_title": false,
   "title_cell": "Table of Contents",
   "title_sidebar": "Contents",
   "toc_cell": false,
   "toc_position": {},
   "toc_section_display": true,
   "toc_window_display": false
  },
  "varInspector": {
   "cols": {
    "lenName": 16,
    "lenType": 16,
    "lenVar": 40
   },
   "kernels_config": {
    "python": {
     "delete_cmd_postfix": "",
     "delete_cmd_prefix": "del ",
     "library": "var_list.py",
     "varRefreshCmd": "print(var_dic_list())"
    },
    "r": {
     "delete_cmd_postfix": ") ",
     "delete_cmd_prefix": "rm(",
     "library": "var_list.r",
     "varRefreshCmd": "cat(var_dic_list()) "
    }
   },
   "types_to_exclude": [
    "module",
    "function",
    "builtin_function_or_method",
    "instance",
    "_Feature"
   ],
   "window_display": false
  }
 },
 "nbformat": 4,
 "nbformat_minor": 2
}
