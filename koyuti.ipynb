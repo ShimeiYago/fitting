{
 "cells": [
  {
   "cell_type": "code",
   "execution_count": 1,
   "metadata": {},
   "outputs": [
    {
     "name": "stdout",
     "output_type": "stream",
     "text": [
      "[4. 1.]\n",
      "[[ 0.70710678 -0.4472136 ]\n",
      " [ 0.70710678  0.89442719]]\n"
     ]
    }
   ],
   "source": [
    "import numpy as np\n",
    "\"\"\"\n",
    "実行列の固有値・固有ベクトルの計算\n",
    "\"\"\"\n",
    "#A_matrix=np.matrix([[2,4],[0,4]]) # 行列Aを生成\n",
    "A_matrix=np.array([[3,1],[2,2]]) # 行列Aを生成\n",
    "\n",
    "\n",
    "eig_val, eig_vec =np.linalg.eig(A_matrix) # 固有値・固有ベクトルをそれぞれeig_val, eig_vecに格納する\n",
    "\n",
    "# for i in range(len(eig_vec)):\n",
    "#     eig_vec [i] = eig_vec[i]/np.linalg.norm(eig_vec[i])\n",
    "\n",
    "#計算結果の出力\n",
    "print(eig_val) \n",
    "print(eig_vec)"
   ]
  },
  {
   "cell_type": "code",
   "execution_count": 7,
   "metadata": {},
   "outputs": [
    {
     "name": "stdout",
     "output_type": "stream",
     "text": [
      "4.0  :  [1. 1.]\n",
      "1.0  :  [ 1. -2.]\n"
     ]
    }
   ],
   "source": [
    "for i,vec in enumerate(eig_vec.T):\n",
    "    x = 1 / vec[0]\n",
    "    print(eig_val[i], ' : ', vec * x)"
   ]
  },
  {
   "cell_type": "code",
   "execution_count": 8,
   "metadata": {},
   "outputs": [
    {
     "name": "stdout",
     "output_type": "stream",
     "text": [
      "[2.82842712 2.82842712]\n",
      "[2.82842712 2.82842712]\n",
      "----------\n",
      "[-0.4472136   0.89442719]\n",
      "[-0.4472136   0.89442719]\n",
      "----------\n"
     ]
    }
   ],
   "source": [
    "for i in range(len(eig_val)):\n",
    "    print(A_matrix @ eig_vec.T[i])\n",
    "    print(eig_val[i] * eig_vec.T[i])\n",
    "    print('----------')"
   ]
  },
  {
   "cell_type": "code",
   "execution_count": null,
   "metadata": {},
   "outputs": [],
   "source": []
  }
 ],
 "metadata": {
  "kernelspec": {
   "display_name": "Python 3",
   "language": "python",
   "name": "python3"
  },
  "language_info": {
   "codemirror_mode": {
    "name": "ipython",
    "version": 3
   },
   "file_extension": ".py",
   "mimetype": "text/x-python",
   "name": "python",
   "nbconvert_exporter": "python",
   "pygments_lexer": "ipython3",
   "version": "3.6.9"
  },
  "toc": {
   "base_numbering": 1,
   "nav_menu": {},
   "number_sections": true,
   "sideBar": true,
   "skip_h1_title": false,
   "title_cell": "Table of Contents",
   "title_sidebar": "Contents",
   "toc_cell": false,
   "toc_position": {},
   "toc_section_display": true,
   "toc_window_display": false
  },
  "varInspector": {
   "cols": {
    "lenName": 16,
    "lenType": 16,
    "lenVar": 40
   },
   "kernels_config": {
    "python": {
     "delete_cmd_postfix": "",
     "delete_cmd_prefix": "del ",
     "library": "var_list.py",
     "varRefreshCmd": "print(var_dic_list())"
    },
    "r": {
     "delete_cmd_postfix": ") ",
     "delete_cmd_prefix": "rm(",
     "library": "var_list.r",
     "varRefreshCmd": "cat(var_dic_list()) "
    }
   },
   "types_to_exclude": [
    "module",
    "function",
    "builtin_function_or_method",
    "instance",
    "_Feature"
   ],
   "window_display": false
  }
 },
 "nbformat": 4,
 "nbformat_minor": 2
}
